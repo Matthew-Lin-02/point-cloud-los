{
 "cells": [
  {
   "cell_type": "code",
   "execution_count": 7,
   "id": "fa1c51c8-ceeb-4f90-9199-24e118b1490e",
   "metadata": {},
   "outputs": [
    {
     "ename": "SyntaxError",
     "evalue": "unterminated string literal (detected at line 26) (2506929902.py, line 26)",
     "output_type": "error",
     "traceback": [
      "\u001b[1;36m  Cell \u001b[1;32mIn[7], line 26\u001b[1;36m\u001b[0m\n\u001b[1;33m    print('distances)\u001b[0m\n\u001b[1;37m          ^\u001b[0m\n\u001b[1;31mSyntaxError\u001b[0m\u001b[1;31m:\u001b[0m unterminated string literal (detected at line 26)\n"
     ]
    }
   ],
   "source": [
    "import numpy as np\n",
    "from scipy.spatial import KDTree\n",
    "import trimesh\n",
    "\n",
    "# Load point cloud from PLY file\n",
    "point_cloud = trimesh.load('sfm.ply').vertices  # Extract XYZ points\n",
    "\n",
    "# Build KD-tree\n",
    "tree = KDTree(point_cloud)\n",
    "\n",
    "# Define start and end points of the ray\n",
    "point_A = np.array([0, 0, 0])  # Replace with actual coordinates\n",
    "point_B = np.array([1, 1, 1])\n",
    "\n",
    "# Step size along the ray\n",
    "num_steps = 100\n",
    "threshold = 0.01  # Collision threshold distance\n",
    "\n",
    "# Generate points along the ray\n",
    "ray_points = np.linspace(point_A, point_B, num_steps)\n",
    "print(ray_points)\n",
    "print(tree)\n",
    "# Check for collisions\n",
    "for p in ray_points:\n",
    "    distances, index = tree.query(p, 1)\n",
    "    print('distances')\n",
    "    print(distances)\n",
    "    print('indexes of thsoe distances')\n",
    "    print(distances)\n",
    "    # if distance < threshold:\n",
    "    #     print(f\"Collision detected at {p}\")\n",
    "    #     break\n",
    "else:\n",
    "    print(\"No collision detected along the ray.\")"
   ]
  },
  {
   "cell_type": "code",
   "execution_count": 5,
   "id": "35559c91-69d7-437f-a9c2-14615cdd0946",
   "metadata": {},
   "outputs": [
    {
     "name": "stdout",
     "output_type": "stream",
     "text": [
      "Collecting trimesh\n",
      "  Downloading trimesh-4.6.4-py3-none-any.whl.metadata (18 kB)\n",
      "Requirement already satisfied: numpy>=1.20 in c:\\users\\matth\\anaconda3\\lib\\site-packages (from trimesh) (1.26.4)\n",
      "Downloading trimesh-4.6.4-py3-none-any.whl (708 kB)\n",
      "   ---------------------------------------- 0.0/708.6 kB ? eta -:--:--\n",
      "   --------------------------------------- 708.6/708.6 kB 14.0 MB/s eta 0:00:00\n",
      "Installing collected packages: trimesh\n",
      "Successfully installed trimesh-4.6.4\n",
      "Note: you may need to restart the kernel to use updated packages.\n"
     ]
    }
   ],
   "source": []
  },
  {
   "cell_type": "code",
   "execution_count": null,
   "id": "f3f7adc9-bb3e-4536-a5a5-2ba2221d7fcb",
   "metadata": {},
   "outputs": [],
   "source": []
  }
 ],
 "metadata": {
  "kernelspec": {
   "display_name": "Python [conda env:base] *",
   "language": "python",
   "name": "conda-base-py"
  },
  "language_info": {
   "codemirror_mode": {
    "name": "ipython",
    "version": 3
   },
   "file_extension": ".py",
   "mimetype": "text/x-python",
   "name": "python",
   "nbconvert_exporter": "python",
   "pygments_lexer": "ipython3",
   "version": "3.12.7"
  }
 },
 "nbformat": 4,
 "nbformat_minor": 5
}
