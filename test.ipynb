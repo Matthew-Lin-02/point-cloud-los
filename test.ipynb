{
 "cells": [
  {
   "cell_type": "code",
   "execution_count": 55,
   "id": "fa1c51c8-ceeb-4f90-9199-24e118b1490e",
   "metadata": {},
   "outputs": [
    {
     "name": "stdout",
     "output_type": "stream",
     "text": [
      "No collision detected along the ray.\n",
      "No collision detected along the ray.\n",
      "No collision detected along the ray.\n",
      "No collision detected along the ray.\n",
      "No collision detected along the ray.\n",
      "No collision detected along the ray.\n",
      "No collision detected along the ray.\n",
      "No collision detected along the ray.\n",
      "No collision detected along the ray.\n",
      "No collision detected along the ray.\n",
      "No collision detected along the ray.\n",
      "No collision detected along the ray.\n",
      "No collision detected along the ray.\n",
      "No collision detected along the ray.\n",
      "No collision detected along the ray.\n",
      "No collision detected along the ray.\n",
      "No collision detected along the ray.\n",
      "No collision detected along the ray.\n",
      "No collision detected along the ray.\n",
      "No collision detected along the ray.\n",
      "No collision detected along the ray.\n",
      "No collision detected along the ray.\n",
      "Collision detected at [-0.22222222 -0.22222222  0.22222222]\n",
      "Loading took 0.6442757000331767 to run\n",
      "Generating ray and checking for collision took 0.0014532000059261918 to run\n"
     ]
    }
   ],
   "source": [
    "import numpy as np\n",
    "from scipy.spatial import KDTree\n",
    "import trimesh\n",
    "import time\n",
    "\n",
    "# Load point cloud from PLY file\n",
    "loading_start_time = time.perf_counter()\n",
    "point_cloud = trimesh.load('sfm.ply').vertices  # Extract XYZ points\n",
    "# Build KD-tree\n",
    "tree = KDTree(point_cloud)\n",
    "loading_end_time = time.perf_counter()\n",
    "\n",
    "start_time = time.perf_counter()\n",
    "# Define start and end points of the ray\n",
    "point_A = np.array([0, 0, 0])  # Replace with actual coordinates\n",
    "point_B = np.array([-1, -1, 1])\n",
    "\n",
    "# Step size along the ray\n",
    "num_steps = 100\n",
    "threshold = 0.01  # Collision threshold distance\n",
    "\n",
    "# Generate points along the ray\n",
    "\n",
    "ray_points = np.linspace(point_A, point_B, num_steps)\n",
    "# Check for collisions\n",
    "\n",
    "for p in ray_points:\n",
    "    distance, index = tree.query(p, 1)\n",
    "    if distance < threshold:\n",
    "        print(f\"Collision detected at {p}\")\n",
    "        break\n",
    "    else:\n",
    "        print(\"No collision detected along the ray.\")\n",
    "end_time = time.perf_counter()\n",
    "print(\"Loading took\", loading_end_time - loading_start_time, \"to run\")\n",
    "print(\"Generating ray and checking for collision took\", end_time - start_time, \"to run\")"
   ]
  },
  {
   "cell_type": "code",
   "execution_count": null,
   "id": "35559c91-69d7-437f-a9c2-14615cdd0946",
   "metadata": {},
   "outputs": [],
   "source": []
  },
  {
   "cell_type": "code",
   "execution_count": null,
   "id": "f3f7adc9-bb3e-4536-a5a5-2ba2221d7fcb",
   "metadata": {},
   "outputs": [],
   "source": []
  }
 ],
 "metadata": {
  "kernelspec": {
   "display_name": "Python [conda env:base] *",
   "language": "python",
   "name": "conda-base-py"
  },
  "language_info": {
   "codemirror_mode": {
    "name": "ipython",
    "version": 3
   },
   "file_extension": ".py",
   "mimetype": "text/x-python",
   "name": "python",
   "nbconvert_exporter": "python",
   "pygments_lexer": "ipython3",
   "version": "3.12.7"
  }
 },
 "nbformat": 4,
 "nbformat_minor": 5
}
